{
 "cells": [
  {
   "cell_type": "code",
   "execution_count": 1,
   "metadata": {},
   "outputs": [
    {
     "name": "stdout",
     "output_type": "stream",
     "text": [
      "No valid decoded message found.\n"
     ]
    }
   ],
   "source": [
    "import base64\n",
    "\n",
    "def decode_base64(data):\n",
    "    try:\n",
    "        decoded = base64.b64decode(data).decode('utf-8')\n",
    "        if decoded.startswith(\"Message#\"):\n",
    "            return decoded\n",
    "    except Exception as e:\n",
    "        pass\n",
    "    return None\n",
    "\n",
    "# Example usage\n",
    "data = b\")\\x16\\xd2\\xa7\\xdb\\xc4\\xba\\x1ac\\xc8\\xda\\xb2<\\xb6\\xa7i\\xe5\\x17\"\n",
    "decoded = decode_base64(data)\n",
    "if decoded:\n",
    "    print(f\"Decoded message: {decoded}\")\n",
    "else:\n",
    "    print(\"No valid decoded message found.\")\n"
   ]
  },
  {
   "cell_type": "code",
   "execution_count": null,
   "metadata": {},
   "outputs": [],
   "source": []
  }
 ],
 "metadata": {
  "kernelspec": {
   "display_name": "sec",
   "language": "python",
   "name": "python3"
  },
  "language_info": {
   "codemirror_mode": {
    "name": "ipython",
    "version": 3
   },
   "file_extension": ".py",
   "mimetype": "text/x-python",
   "name": "python",
   "nbconvert_exporter": "python",
   "pygments_lexer": "ipython3",
   "version": "3.10.6"
  }
 },
 "nbformat": 4,
 "nbformat_minor": 2
}
